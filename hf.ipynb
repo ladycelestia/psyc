{
 "cells": [
  {
   "cell_type": "code",
   "execution_count": 18,
   "metadata": {},
   "outputs": [],
   "source": [
    "import re\n",
    "import string\n",
    "import pandas as pd\n",
    "import numpy as np\n",
    "from transformers import AutoTokenizer, AutoModelForSequenceClassification, Trainer, TrainingArguments\n",
    "import matplotlib.pyplot as plt\n",
    "from sklearn.model_selection import train_test_split\n",
    "from sklearn.metrics import classification_report, accuracy_score, precision_recall_fscore_support, confusion_matrix\n",
    "from sklearn.utils.class_weight import compute_class_weight\n",
    "from datasets import Dataset\n",
    "import torch\n",
    "import seaborn as sns\n",
    "from torch.nn import CrossEntropyLoss\n",
    "device = torch.device(\"cuda\") if torch.cuda.is_available() else torch.device(\"cpu\")"
   ]
  },
  {
   "cell_type": "code",
   "execution_count": 19,
   "metadata": {},
   "outputs": [],
   "source": [
    "seed = 123"
   ]
  },
  {
   "cell_type": "code",
   "execution_count": 21,
   "metadata": {},
   "outputs": [],
   "source": [
    "df = pd.read_csv('comments with acceptreject.csv')\n",
    "data = df.iloc[:,1:3]\n",
    "dataset = Dataset.from_pandas(data)"
   ]
  },
  {
   "cell_type": "code",
   "execution_count": 22,
   "metadata": {},
   "outputs": [
    {
     "name": "stderr",
     "output_type": "stream",
     "text": [
      "d:\\anaconda3\\envs\\bert\\lib\\site-packages\\transformers\\tokenization_utils_base.py:1601: FutureWarning: `clean_up_tokenization_spaces` was not set. It will be set to `True` by default. This behavior will be depracted in transformers v4.45, and will be then set to `False` by default. For more details check this issue: https://github.com/huggingface/transformers/issues/31884\n",
      "  warnings.warn(\n",
      "Some weights of BertForSequenceClassification were not initialized from the model checkpoint at bert-base-uncased and are newly initialized: ['classifier.bias', 'classifier.weight']\n",
      "You should probably TRAIN this model on a down-stream task to be able to use it for predictions and inference.\n"
     ]
    }
   ],
   "source": [
    "tokenizer = AutoTokenizer.from_pretrained(\"bert-base-uncased\")\n",
    "model = AutoModelForSequenceClassification.from_pretrained(\"bert-base-uncased\", num_labels=2)"
   ]
  },
  {
   "cell_type": "code",
   "execution_count": null,
   "metadata": {},
   "outputs": [],
   "source": [
    "train_X, test_X, train_Y, test_Y = train_test_split(data['text_comments'], data['label'], train_size = 0.7, random_state=seed)"
   ]
  },
  {
   "cell_type": "code",
   "execution_count": null,
   "metadata": {},
   "outputs": [],
   "source": [
    "train_tokens = tokenizer(list(train_X), padding = True, truncation=True)\n",
    "test_tokens = tokenizer(list(test_X), padding = True, truncation=True)"
   ]
  },
  {
   "cell_type": "code",
   "execution_count": 5,
   "metadata": {},
   "outputs": [],
   "source": [
    "def preprocess_function(examples):\n",
    "    return tokenizer(examples['text_comments'], truncation=True, padding=True, max_length=50)"
   ]
  },
  {
   "cell_type": "code",
   "execution_count": null,
   "metadata": {},
   "outputs": [],
   "source": [
    "class TokenData(Dataset):\n",
    "    def __init__(self, train = False):\n",
    "        if train:\n",
    "            self.text_data = train_X\n",
    "            self.tokens = train_tokens\n",
    "            self.labels = list(train_Y)\n",
    "        else:\n",
    "            self.text_data = test_X\n",
    "            self.tokens = test_tokens\n",
    "            self.labels = list(test_Y)\n",
    "\n",
    "    def __len__(self):\n",
    "        return len(self.text_data)\n",
    "\n",
    "    def __getitem__(self, idx):\n",
    "        sample = {}\n",
    "        for k, v in self.tokens.items():\n",
    "            sample[k] = torch.tensor(v[idx])\n",
    "        sample['labels'] = torch.tensor(self.labels[idx])\n",
    "        return sample"
   ]
  },
  {
   "cell_type": "code",
   "execution_count": null,
   "metadata": {},
   "outputs": [],
   "source": [
    "batch_size = 40\n",
    "train_dataset = TokenData(train = True)\n",
    "train_loader = DataLoader(train_dataset, shuffle=True, batch_size=batch_size)\n",
    "\n",
    "test_dataset = TokenData(train = False)\n",
    "test_loader = DataLoader(test_dataset, shuffle=True, batch_size=batch_size)"
   ]
  },
  {
   "cell_type": "code",
   "execution_count": 6,
   "metadata": {},
   "outputs": [
    {
     "name": "stderr",
     "output_type": "stream",
     "text": [
      "Parameter 'function'=<function preprocess_function at 0x0000026D45937D30> of the transform datasets.arrow_dataset.Dataset._map_single couldn't be hashed properly, a random hash was used instead. Make sure your transforms and parameters are serializable with pickle or dill for the dataset fingerprinting and caching to work. If you reuse this transform, the caching mechanism will consider it to be different from the previous calls and recompute everything. This warning is only showed once. Subsequent hashing failures won't be showed.\n",
      "100%|██████████| 1/1 [00:00<00:00, 20.92ba/s]\n",
      "100%|██████████| 1/1 [00:00<00:00, 71.02ba/s]\n",
      "100%|██████████| 1/1 [00:00<00:00, 68.93ba/s]\n"
     ]
    }
   ],
   "source": [
    "train_val_split = dataset.train_test_split(test_size=0.2, seed=seed)\n",
    "\n",
    "# Split the remaining 80% into 60% train and 20% validation (which is 75%:25% of the remaining 80%)\n",
    "train_split = train_val_split['train'].train_test_split(test_size=0.25, seed=seed)\n",
    "\n",
    "# Assign splits\n",
    "train_dataset = train_split['train']\n",
    "val_dataset = train_split['test']\n",
    "test_dataset = train_val_split['test']\n",
    "train_dataset = train_dataset.map(preprocess_function, batched=True)\n",
    "val_dataset = val_dataset.map(preprocess_function, batched=True)\n",
    "test_dataset = test_dataset.map(preprocess_function, batched=True)"
   ]
  },
  {
   "cell_type": "code",
   "execution_count": 7,
   "metadata": {},
   "outputs": [],
   "source": [
    "def compute_metrics(eval_pred):\n",
    "    logits, labels = eval_pred\n",
    "    predictions = logits.argmax(axis=-1)  # Get predicted class\n",
    "\n",
    "    # Calculate precision, recall, F1, and accuracy\n",
    "    precision, recall, f1, _ = precision_recall_fscore_support(labels, predictions, average=\"weighted\", zero_division=0)\n",
    "    acc = accuracy_score(labels, predictions)\n",
    "\n",
    "    # Return metrics\n",
    "    return {\n",
    "        \"accuracy\": acc,\n",
    "        \"precision\": precision,\n",
    "        \"recall\": recall,\n",
    "        \"f1\": f1  \n",
    "    }"
   ]
  },
  {
   "cell_type": "code",
   "execution_count": 8,
   "metadata": {},
   "outputs": [],
   "source": [
    "train_labels = train_dataset['label']\n",
    "classes = np.array([0, 1])"
   ]
  },
  {
   "cell_type": "code",
   "execution_count": 9,
   "metadata": {},
   "outputs": [],
   "source": [
    "class CustomTrainer(Trainer):\n",
    "    def __init__(self, *args, class_weights=None, **kwargs):\n",
    "        super().__init__(*args, **kwargs)\n",
    "        self.class_weights = class_weights  # Store the class weights\n",
    "\n",
    "    def compute_loss(self, model, inputs, return_outputs=False):\n",
    "        # Forward pass through the model\n",
    "        labels = inputs.get(\"labels\")\n",
    "        outputs = model(**inputs)\n",
    "        logits = outputs.logits\n",
    "        \n",
    "        # Get the number of labels from model config\n",
    "        num_labels = model.config.num_labels\n",
    "        \n",
    "        # Apply the loss function with class weights\n",
    "        loss_fct = torch.nn.CrossEntropyLoss(weight=self.class_weights)\n",
    "        loss = loss_fct(logits.view(-1, num_labels), labels.view(-1))\n",
    "\n",
    "        return (loss, outputs) if return_outputs else loss"
   ]
  },
  {
   "cell_type": "code",
   "execution_count": 10,
   "metadata": {},
   "outputs": [],
   "source": [
    "class_weights = compute_class_weight('balanced', classes=classes, y=train_labels)  # Adjust classes if needed\n",
    "class_weights_tensor = torch.tensor(class_weights, dtype=torch.float).to(device)"
   ]
  },
  {
   "cell_type": "code",
   "execution_count": 11,
   "metadata": {},
   "outputs": [],
   "source": [
    "training_args = TrainingArguments(\n",
    "    output_dir=\"./results\",\n",
    "    eval_strategy=\"epoch\",     # Evaluate at the end of every epoch\n",
    "    learning_rate=1e-4,\n",
    "    per_device_train_batch_size=16,\n",
    "    per_device_eval_batch_size=16,  # Batch size for evaluation\n",
    "    num_train_epochs=10,\n",
    "    weight_decay=0.001,\n",
    "    logging_dir=\"./logs\",\n",
    "    logging_steps=50,               # Log every 50 steps\n",
    "    save_strategy=\"epoch\",          # Save checkpoints at the end of each epoch\n",
    "    load_best_model_at_end=True,    # Automatically load the best model based on validation\n",
    "    metric_for_best_model=\"loss\", # Metric to determine the best model\n",
    "    greater_is_better=False,         # Specify if higher metric is better\n",
    "    seed=seed,\n",
    ")\n",
    "\n",
    "\n",
    "trainer = Trainer(\n",
    "    model=model,\n",
    "    args=training_args,\n",
    "    train_dataset=train_dataset,  # Your training dataset\n",
    "    eval_dataset=val_dataset,    # Your validation dataset\n",
    "    tokenizer=tokenizer,\n",
    "    compute_metrics=compute_metrics\n",
    ")\n",
    "#trainer = CustomTrainer(\n",
    "#    model=model,\n",
    "#    args=training_args,\n",
    "    #train_dataset=train_dataset,\n",
    "    #eval_dataset=val_dataset,\n",
    "    #tokenizer=tokenizer,\n",
    "    #class_weights=class_weights_tensor,\n",
    "    #compute_metrics=compute_metrics  # Assuming compute_metrics is defined\n",
    "#)\n"
   ]
  },
  {
   "cell_type": "code",
   "execution_count": 12,
   "metadata": {},
   "outputs": [
    {
     "name": "stderr",
     "output_type": "stream",
     "text": [
      "                                               \n",
      " 10%|█         | 10/100 [00:01<00:10,  8.39it/s]"
     ]
    },
    {
     "name": "stdout",
     "output_type": "stream",
     "text": [
      "{'eval_loss': 0.6714817881584167, 'eval_accuracy': 0.62, 'eval_precision': 0.38439999999999996, 'eval_recall': 0.62, 'eval_f1': 0.4745679012345678, 'eval_runtime': 0.2576, 'eval_samples_per_second': 194.097, 'eval_steps_per_second': 15.528, 'epoch': 1.0}\n"
     ]
    },
    {
     "name": "stderr",
     "output_type": "stream",
     "text": [
      "                                                \n",
      " 20%|██        | 20/100 [00:06<00:13,  6.03it/s]"
     ]
    },
    {
     "name": "stdout",
     "output_type": "stream",
     "text": [
      "{'eval_loss': 0.7414336204528809, 'eval_accuracy': 0.64, 'eval_precision': 0.6206060606060606, 'eval_recall': 0.64, 'eval_f1': 0.6125714285714285, 'eval_runtime': 0.1131, 'eval_samples_per_second': 442.105, 'eval_steps_per_second': 35.368, 'epoch': 2.0}\n"
     ]
    },
    {
     "name": "stderr",
     "output_type": "stream",
     "text": [
      "                                                \n",
      " 30%|███       | 30/100 [00:23<00:26,  2.60it/s]"
     ]
    },
    {
     "name": "stdout",
     "output_type": "stream",
     "text": [
      "{'eval_loss': 1.1258444786071777, 'eval_accuracy': 0.62, 'eval_precision': 0.5978947368421053, 'eval_recall': 0.62, 'eval_f1': 0.596372136512389, 'eval_runtime': 0.114, 'eval_samples_per_second': 438.599, 'eval_steps_per_second': 35.088, 'epoch': 3.0}\n"
     ]
    },
    {
     "name": "stderr",
     "output_type": "stream",
     "text": [
      "                                                \n",
      " 40%|████      | 40/100 [00:38<00:20,  2.90it/s]"
     ]
    },
    {
     "name": "stdout",
     "output_type": "stream",
     "text": [
      "{'eval_loss': 2.5446910858154297, 'eval_accuracy': 0.5, 'eval_precision': 0.5049999999999999, 'eval_recall': 0.5, 'eval_f1': 0.5023118957545187, 'eval_runtime': 0.1141, 'eval_samples_per_second': 438.152, 'eval_steps_per_second': 35.052, 'epoch': 4.0}\n"
     ]
    },
    {
     "name": "stderr",
     "output_type": "stream",
     "text": [
      " 50%|█████     | 50/100 [00:53<00:17,  2.78it/s]"
     ]
    },
    {
     "name": "stdout",
     "output_type": "stream",
     "text": [
      "{'loss': 0.2967, 'grad_norm': 0.01523417979478836, 'learning_rate': 5e-05, 'epoch': 5.0}\n"
     ]
    },
    {
     "name": "stderr",
     "output_type": "stream",
     "text": [
      "                                                \n",
      " 50%|█████     | 50/100 [00:53<00:17,  2.78it/s]"
     ]
    },
    {
     "name": "stdout",
     "output_type": "stream",
     "text": [
      "{'eval_loss': 2.8086864948272705, 'eval_accuracy': 0.6, 'eval_precision': 0.5775467775467775, 'eval_recall': 0.6, 'eval_f1': 0.5801470588235295, 'eval_runtime': 0.0909, 'eval_samples_per_second': 550.042, 'eval_steps_per_second': 44.003, 'epoch': 5.0}\n"
     ]
    },
    {
     "name": "stderr",
     "output_type": "stream",
     "text": [
      "                                                \n",
      " 60%|██████    | 60/100 [01:03<00:11,  3.61it/s]"
     ]
    },
    {
     "name": "stdout",
     "output_type": "stream",
     "text": [
      "{'eval_loss': 2.9075984954833984, 'eval_accuracy': 0.56, 'eval_precision': 0.5785507246376811, 'eval_recall': 0.56, 'eval_f1': 0.5657799671592776, 'eval_runtime': 0.1212, 'eval_samples_per_second': 412.401, 'eval_steps_per_second': 32.992, 'epoch': 6.0}\n"
     ]
    },
    {
     "name": "stderr",
     "output_type": "stream",
     "text": [
      "                                                \n",
      " 70%|███████   | 70/100 [01:23<00:13,  2.27it/s]"
     ]
    },
    {
     "name": "stdout",
     "output_type": "stream",
     "text": [
      "{'eval_loss': 2.923748254776001, 'eval_accuracy': 0.58, 'eval_precision': 0.6273376623376623, 'eval_recall': 0.58, 'eval_f1': 0.5845523885989562, 'eval_runtime': 0.1187, 'eval_samples_per_second': 421.165, 'eval_steps_per_second': 33.693, 'epoch': 7.0}\n"
     ]
    },
    {
     "name": "stderr",
     "output_type": "stream",
     "text": [
      "                                                \n",
      " 80%|████████  | 80/100 [01:39<00:07,  2.60it/s]"
     ]
    },
    {
     "name": "stdout",
     "output_type": "stream",
     "text": [
      "{'eval_loss': 2.7917280197143555, 'eval_accuracy': 0.6, 'eval_precision': 0.6085385878489327, 'eval_recall': 0.6, 'eval_f1': 0.6033333333333333, 'eval_runtime': 0.1203, 'eval_samples_per_second': 415.731, 'eval_steps_per_second': 33.258, 'epoch': 8.0}\n"
     ]
    },
    {
     "name": "stderr",
     "output_type": "stream",
     "text": [
      "                                                \n",
      " 90%|█████████ | 90/100 [01:52<00:03,  3.17it/s]"
     ]
    },
    {
     "name": "stdout",
     "output_type": "stream",
     "text": [
      "{'eval_loss': 2.916745662689209, 'eval_accuracy': 0.6, 'eval_precision': 0.5847619047619047, 'eval_recall': 0.6, 'eval_f1': 0.5885918003565063, 'eval_runtime': 0.1183, 'eval_samples_per_second': 422.688, 'eval_steps_per_second': 33.815, 'epoch': 9.0}\n"
     ]
    },
    {
     "name": "stderr",
     "output_type": "stream",
     "text": [
      "100%|██████████| 100/100 [02:06<00:00,  2.87it/s]"
     ]
    },
    {
     "name": "stdout",
     "output_type": "stream",
     "text": [
      "{'loss': 0.0076, 'grad_norm': 0.0046182237565517426, 'learning_rate': 0.0, 'epoch': 10.0}\n"
     ]
    },
    {
     "name": "stderr",
     "output_type": "stream",
     "text": [
      "                                                 \n",
      "100%|██████████| 100/100 [02:19<00:00,  2.87it/s]"
     ]
    },
    {
     "name": "stdout",
     "output_type": "stream",
     "text": [
      "{'eval_loss': 2.960968017578125, 'eval_accuracy': 0.6, 'eval_precision': 0.5847619047619047, 'eval_recall': 0.6, 'eval_f1': 0.5885918003565063, 'eval_runtime': 0.393, 'eval_samples_per_second': 127.221, 'eval_steps_per_second': 10.178, 'epoch': 10.0}\n"
     ]
    },
    {
     "name": "stderr",
     "output_type": "stream",
     "text": [
      "100%|██████████| 100/100 [02:33<00:00,  1.53s/it]"
     ]
    },
    {
     "name": "stdout",
     "output_type": "stream",
     "text": [
      "{'train_runtime': 153.1507, 'train_samples_per_second': 9.794, 'train_steps_per_second': 0.653, 'train_loss': 0.1521659728884697, 'epoch': 10.0}\n"
     ]
    },
    {
     "name": "stderr",
     "output_type": "stream",
     "text": [
      "\n"
     ]
    },
    {
     "data": {
      "text/plain": [
       "TrainOutput(global_step=100, training_loss=0.1521659728884697, metrics={'train_runtime': 153.1507, 'train_samples_per_second': 9.794, 'train_steps_per_second': 0.653, 'total_flos': 38541658500000.0, 'train_loss': 0.1521659728884697, 'epoch': 10.0})"
      ]
     },
     "execution_count": 12,
     "metadata": {},
     "output_type": "execute_result"
    }
   ],
   "source": [
    "trainer.train()"
   ]
  },
  {
   "cell_type": "code",
   "execution_count": 13,
   "metadata": {},
   "outputs": [
    {
     "name": "stderr",
     "output_type": "stream",
     "text": [
      "100%|██████████| 4/4 [00:00<00:00, 25.87it/s]\n",
      "100%|██████████| 4/4 [00:00<00:00, 60.43it/s]\n"
     ]
    }
   ],
   "source": [
    "metrics = trainer.evaluate(eval_dataset=test_dataset)\n",
    "predictions_output = trainer.predict(test_dataset)"
   ]
  },
  {
   "cell_type": "code",
   "execution_count": 14,
   "metadata": {},
   "outputs": [
    {
     "name": "stdout",
     "output_type": "stream",
     "text": [
      "{'eval_loss': 0.720197856426239, 'eval_accuracy': 0.56, 'eval_precision': 0.31360000000000005, 'eval_recall': 0.56, 'eval_f1': 0.40205128205128204, 'eval_runtime': 0.2801, 'eval_samples_per_second': 178.498, 'eval_steps_per_second': 14.28, 'epoch': 10.0}\n"
     ]
    }
   ],
   "source": [
    "print(metrics)"
   ]
  },
  {
   "cell_type": "code",
   "execution_count": 15,
   "metadata": {},
   "outputs": [],
   "source": [
    "logits = predictions_output.predictions  # shape (num_samples, num_classes)\n",
    "labels = predictions_output.label_ids    # shape (num_samples,)\n",
    "\n",
    "# Convert logits to predicted class labels (argmax)\n",
    "predicted_labels = np.argmax(logits, axis=-1)\n",
    "\n",
    "\n",
    "# Compute confusion matrix\n",
    "conf_matrix = confusion_matrix(labels, predicted_labels)\n"
   ]
  },
  {
   "cell_type": "code",
   "execution_count": 16,
   "metadata": {},
   "outputs": [
    {
     "name": "stderr",
     "output_type": "stream",
     "text": [
      "d:\\anaconda3\\envs\\bert\\lib\\site-packages\\sklearn\\metrics\\_classification.py:1531: UndefinedMetricWarning: Precision is ill-defined and being set to 0.0 in labels with no predicted samples. Use `zero_division` parameter to control this behavior.\n",
      "  _warn_prf(average, modifier, f\"{metric.capitalize()} is\", len(result))\n",
      "d:\\anaconda3\\envs\\bert\\lib\\site-packages\\sklearn\\metrics\\_classification.py:1531: UndefinedMetricWarning: Precision is ill-defined and being set to 0.0 in labels with no predicted samples. Use `zero_division` parameter to control this behavior.\n",
      "  _warn_prf(average, modifier, f\"{metric.capitalize()} is\", len(result))\n"
     ]
    },
    {
     "name": "stdout",
     "output_type": "stream",
     "text": [
      "Confusion Matrix:\n",
      " [[28  0]\n",
      " [22  0]]\n",
      "              precision    recall  f1-score   support\n",
      "\n",
      "           0       0.56      1.00      0.72        28\n",
      "           1       0.00      0.00      0.00        22\n",
      "\n",
      "    accuracy                           0.56        50\n",
      "   macro avg       0.28      0.50      0.36        50\n",
      "weighted avg       0.31      0.56      0.40        50\n",
      "\n"
     ]
    },
    {
     "name": "stderr",
     "output_type": "stream",
     "text": [
      "d:\\anaconda3\\envs\\bert\\lib\\site-packages\\sklearn\\metrics\\_classification.py:1531: UndefinedMetricWarning: Precision is ill-defined and being set to 0.0 in labels with no predicted samples. Use `zero_division` parameter to control this behavior.\n",
      "  _warn_prf(average, modifier, f\"{metric.capitalize()} is\", len(result))\n"
     ]
    }
   ],
   "source": [
    "\n",
    "\n",
    "# Print confusion matrix to check\n",
    "print(\"Confusion Matrix:\\n\", conf_matrix)\n",
    "print(classification_report(labels, predicted_labels))"
   ]
  },
  {
   "cell_type": "code",
   "execution_count": 17,
   "metadata": {},
   "outputs": [
    {
     "data": {
      "image/png": "[encoded data removed]",
      "text/plain": [
       "<Figure size 640x480 with 2 Axes>"
      ]
     },
     "metadata": {},
     "output_type": "display_data"
    }
   ],
   "source": [
    "sns.heatmap(conf_matrix, annot=True, fmt='d', cmap='Blues', \n",
    "                xticklabels=['Pred: R', 'Pred: A'], \n",
    "                yticklabels=['True: R', 'True: A'])\n",
    "plt.xlabel('Predicted')\n",
    "plt.ylabel('True')\n",
    "plt.title('Confusion Matrix')\n",
    "plt.show()"
   ]
  }
 ],
 "metadata": {
  "kernelspec": {
   "display_name": "bert",
   "language": "python",
   "name": "python3"
  },
  "language_info": {
   "codemirror_mode": {
    "name": "ipython",
    "version": 3
   },
   "file_extension": ".py",
   "mimetype": "text/x-python",
   "name": "python",
   "nbconvert_exporter": "python",
   "pygments_lexer": "ipython3",
   "version": "3.9.18"
  }
 },
 "nbformat": 4,
 "nbformat_minor": 2
}
